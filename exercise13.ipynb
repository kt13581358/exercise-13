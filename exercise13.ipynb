{
 "cells": [
  {
   "cell_type": "code",
   "execution_count": null,
   "id": "33b35608",
   "metadata": {},
   "outputs": [],
   "source": [
    "from datetime import datetime\n",
    "class Product:\n",
    "    def __init__(self, name, price, description, stock):\n",
    "        self.name = name\n",
    "        self.price = price\n",
    "        self.description = description\n",
    "        self.stock = stock\n",
    "\n",
    "class User:\n",
    "    def __init__(self, name, email, address):\n",
    "        self.name = name\n",
    "        self.email = email\n",
    "        self.address = address\n",
    "        self.cart = {}\n",
    "\n",
    "class Cart:\n",
    "    def __init__(self, user):\n",
    "        self.user = user\n",
    "\n",
    "    def add_to_cart (self, product, quantity):\n",
    "        if product.stock >= quantity:\n",
    "            self.cart[product] = quantity\n",
    "            product.stock -= quantity\n",
    "            return self.cart\n",
    "        else:\n",
    "            return \"stock not enogh\"\n",
    "        \n",
    "    def total_calculate(self):\n",
    "        for product, quantity in self.cart:\n",
    "            return sum(product.price * quantity)\n",
    "        \n",
    "class Order:\n",
    "    def __init__(self, user, cart):\n",
    "        self.user = user         \n",
    "        self.cart = cart         \n",
    "        self.status = status\n",
    "        self.order_date = datetime.now() \n",
    "    def show_order ()"
   ]
  },
  {
   "cell_type": "code",
   "execution_count": 24,
   "id": "d81fb66d",
   "metadata": {},
   "outputs": [],
   "source": [
    "p1 = Product(\"a\", 200, \"large\", 20)"
   ]
  },
  {
   "cell_type": "code",
   "execution_count": 25,
   "id": "082b84b8",
   "metadata": {},
   "outputs": [],
   "source": [
    "u1 = User(\"ahmad\", \"ahmad@gmail.com\", \"karaj\")"
   ]
  },
  {
   "cell_type": "code",
   "execution_count": null,
   "id": "78eeba88",
   "metadata": {},
   "outputs": [
    {
     "ename": "NameError",
     "evalue": "name 'add_to_cart' is not defined",
     "output_type": "error",
     "traceback": [
      "\u001b[1;31m---------------------------------------------------------------------------\u001b[0m",
      "\u001b[1;31mNameError\u001b[0m                                 Traceback (most recent call last)",
      "Cell \u001b[1;32mIn[26], line 1\u001b[0m\n\u001b[1;32m----> 1\u001b[0m \u001b[43madd_to_cart\u001b[49m(u1, p1, \u001b[38;5;241m2\u001b[39m)\n",
      "\u001b[1;31mNameError\u001b[0m: name 'add_to_cart' is not defined"
     ]
    }
   ],
   "source": [
    "add_to_cart (u1, p1, 2)"
   ]
  },
  {
   "cell_type": "code",
   "execution_count": 13,
   "id": "1ee599c5",
   "metadata": {},
   "outputs": [],
   "source": [
    "\n",
    "import sqlite3\n",
    "conn = sqlite3.connect('store 2.db')\n",
    "\n",
    "create_table_statement = \"\"\"\n",
    "                        CREATE TABLE IF NOT EXISTS customer(\n",
    "                        c_ID int PRIMARY KEY UNIQuE,\n",
    "                        name VARCHAR(200),\n",
    "                        email,\n",
    "                        address)\"\"\"\n",
    "cursor = conn.cursor()\n",
    "cursor.execute(create_table_statement)\n",
    "\n",
    "insert_statement = \"\"\"INSERT INTO customer(c_ID, name, email, address)\n",
    "                    VALUES\n",
    "                    (1, \"reza\", \"reza@gmail.com\", \"karaj\"),\n",
    "                    (2, \"mohammad\", \"mohammad@gmail.com\", \"mesbah\"),\n",
    "                    (3, \"ali\", \"ali@gmail.com\", \"taleghani\"),\n",
    "                    (4, \"kazem\", \"kazem@gmail.com\", \"shariati\"),\n",
    "                    (5, \"javad\", \"javad@gmail.com\", \"mohammad shahr\"),\n",
    "                    (6, \"abbas\", \"abbas@gmail.com\", \"karaj\")\"\"\"\n",
    "conn.commit() \n",
    "\n",
    "create_table_statement = \"\"\"\n",
    "                        CREATE TABLE IF NOT EXISTS product(\n",
    "                        name,\n",
    "                        price,\n",
    "                        description,\n",
    "                        stock)\"\"\"\n",
    "cursor = conn.cursor()\n",
    "cursor.execute(create_table_statement)\n",
    "\n",
    "insert_statement = \"\"\"INSERT INTO product(name, price, description, stock)\n",
    "                    VALUES\n",
    "                    (\"shirt\", 2000, \"large\", 20),\n",
    "                    (\"shirt\", 2000, \"small\", 30),\n",
    "                    (\"shirt\", 2000, \"medهum\", 20),\n",
    "                    (\"shirt\", 2000, \"xlarge\", 10)\"\"\"\n",
    "cursor.execute(insert_statement)\n",
    "conn.commit() \n",
    "\n",
    "create_table_statement = \"\"\"\n",
    "                        CREATE TABLE IF NOT EXISTS cart(\n",
    "                        name,\n",
    "                        price,\n",
    "                        description,\n",
    "                        stock)\"\"\"\n",
    "cursor = conn.cursor()\n",
    "cursor.execute(create_table_statement)\n",
    "\n",
    "insert_statement = \"\"\"INSERT INTO cart(name, price, description, stock)\n",
    "                    VALUES\n",
    "                    (\"shirt\", 2000, \"large\", 20),\n",
    "                    (\"shirt\", 2000, \"small\", 30),\n",
    "                    (\"shirt\", 2000, \"medهum\", 20),\n",
    "                    (\"shirt\", 2000, \"xlarge\", 10)\"\"\"\n",
    "cursor.execute(insert_statement)\n",
    "conn.commit() \n"
   ]
  }
 ],
 "metadata": {
  "kernelspec": {
   "display_name": "Python 3",
   "language": "python",
   "name": "python3"
  },
  "language_info": {
   "codemirror_mode": {
    "name": "ipython",
    "version": 3
   },
   "file_extension": ".py",
   "mimetype": "text/x-python",
   "name": "python",
   "nbconvert_exporter": "python",
   "pygments_lexer": "ipython3",
   "version": "3.10.10"
  }
 },
 "nbformat": 4,
 "nbformat_minor": 5
}
